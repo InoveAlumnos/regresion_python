{
 "cells": [
  {
   "cell_type": "markdown",
   "metadata": {
    "id": "Ea9CPlvttQda"
   },
   "source": [
    "<a href=\"https://www.inove.com.ar\"><img src=\"https://raw.githubusercontent.com/InoveAlumnos/dataset_analytics_python/master/images/PA%20Banner.png\" width=\"1000\" align=\"center\"></a>\n",
    "\n",
    "\n",
    "# Regresión polinomial\n",
    "\n",
    "Ejemplo de regresión polinomial<br>\n",
    "v2.0"
   ]
  },
  {
   "cell_type": "markdown",
   "metadata": {
    "id": "YOG1uLruX7od"
   },
   "source": [
    "### Objetivos:\n",
    "*   Comprender como funciona la regresión polinomial en un ejemplo real.\n",
    "*   Evaluar el resultado de una regresión polinomial considerando el grado y el error mínimo.\n",
    "* Realizar una predición con un nuevo valor."
   ]
  },
  {
   "cell_type": "code",
   "execution_count": null,
   "metadata": {
    "id": "xJN8ND5ctQdc"
   },
   "outputs": [],
   "source": [
    "#Librerias a implementar\n",
    "import os\n",
    "import platform\n",
    "\n",
    "import numpy as np\n",
    "import matplotlib.pyplot as plt\n",
    "import seaborn as sns\n",
    "import pandas as pd"
   ]
  },
  {
   "cell_type": "markdown",
   "metadata": {
    "id": "v-jK-TsQCwW9"
   },
   "source": [
    "# Recolectar datos\n",
    "<img src=\"https://raw.githubusercontent.com/InoveAlumnos/dataset_analytics_python/master/images/Pipeline1.png\" width=\"1000\" align=\"middle\">"
   ]
  },
  {
   "cell_type": "markdown",
   "metadata": {
    "id": "TmPQyAVd87Un"
   },
   "source": [
    "### Código de descarga del dataset"
   ]
  },
  {
   "cell_type": "code",
   "execution_count": null,
   "metadata": {
    "id": "j9x_YEdTtQeC",
    "tags": []
   },
   "outputs": [],
   "source": [
    "if os.access('FuelConsumptionCo2.csv', os.F_OK) is False:\n",
    "    if platform.system() == 'Windows':\n",
    "        !curl https://raw.githubusercontent.com/InoveAlumnos/dataset_analytics_python/master/FuelConsumptionCo2.csv > FuelConsumptionCo2.csv\n",
    "    else:\n",
    "        !wget FuelConsumptionCo2.csv https://raw.githubusercontent.com/InoveAlumnos/dataset_analytics_python/master/FuelConsumptionCo2.csv"
   ]
  },
  {
   "cell_type": "markdown",
   "metadata": {
    "id": "GoqiG5q3dN87"
   },
   "source": [
    "### `FuelConsumption.csv`:\n",
    "El dataset **`FuelConsumption.csv`** contiene el consumo específico por tipo de vehículo y la emisión estimado de dioxido de carbono (Co2) de nuevos vehículos que son venidos en canada.<br> [Dataset source](http://open.canada.ca/data/en/dataset/98f1a129-f628-4ce4-b24d-6f16bf24dd64)\n",
    "\n",
    "- **MODELYEAR** --> ejemplo 2014\n",
    "- **MAKE** --> ejemplo Acura\n",
    "- **MODEL** --> ejemplo ILX\n",
    "- **VEHICLE CLASS** --> ejemplo SUV\n",
    "- **ENGINE SIZE** --> ejemplo 4.7\n",
    "- **CYLINDERS** --> ejemplo 6\n",
    "- **TRANSMISSION** --> ejemplo A6\n",
    "- **FUEL CONSUMPTION in CITY(L/100 km)** --> ejemplo 9.9\n",
    "- **FUEL CONSUMPTION in HWY (L/100 km)** --> ejemplo 8.9\n",
    "- **FUEL CONSUMPTION COMB (L/100 km)** --> ejemplo 9.2\n",
    "- **CO2 EMISSIONS (g/km)** --> ejemplo 182"
   ]
  },
  {
   "cell_type": "markdown",
   "metadata": {
    "id": "Q5I6l8ZCFaZ8"
   },
   "source": [
    "# Procesar datos\n",
    "<img src=\"https://raw.githubusercontent.com/InoveAlumnos/dataset_analytics_python/master/images/Pipeline2.png\" width=\"1000\" align=\"middle\">"
   ]
  },
  {
   "cell_type": "code",
   "execution_count": null,
   "metadata": {
    "id": "RQgSiWHXFWQD"
   },
   "outputs": [],
   "source": [
    "# Una vez descargado el archivo en Colab.\n",
    "# Leerlo con Pandas y el método read_csv\n",
    "# Una vez extraida toda la información se almacena en df\n",
    "# A partir de df y el método describe(), mostrará la descripción estadistica básica del archivo que se guardará en des\n",
    "# Crear una fila nueva llamada Nan en el DataFrame  des,\n",
    "# que indica la cantidad de datos tipo Nan que tiene cada columna.\n",
    "# Para crear una nueva fila, se utilizará el operador loc, donde se indica el nombre\n",
    "# de la nueva fila y con que valores se completará.\n",
    "# La información será de los datos faltantes df.isna().sum()\n",
    "# Crear una fila nueva llamada %Nan en el DataFrame des,\n",
    "# Esta fila se completará con los porcentajes de Nan encontrados en cada columna.\n",
    "df = pd.read_csv(\"FuelConsumptionCo2.csv\")\n",
    "des = df.describe()\n",
    "des.loc['Nan'] = df.isna().sum()\n",
    "des.loc['%Nan'] = (df.isna().mean())*100\n",
    "des"
   ]
  },
  {
   "cell_type": "code",
   "execution_count": null,
   "metadata": {
    "id": "yVdxZvGKFvM9"
   },
   "outputs": [],
   "source": [
    "# Muestra las 5 primeras filas del DataFrame df\n",
    "df.head()"
   ]
  },
  {
   "cell_type": "markdown",
   "metadata": {
    "id": "l17CbKBnLTbu"
   },
   "source": [
    "## Fin de la limpieza\n",
    "Se finalizó la limpieza, no hay datos mal cargados o incompletos en este dataset"
   ]
  },
  {
   "cell_type": "code",
   "execution_count": null,
   "metadata": {
    "id": "XPQ2CtCGL3Zn"
   },
   "outputs": [],
   "source": [
    "# ¿Cuántos datos quedaron para analizar?\n",
    "# (filas, columnas)\n",
    "# Al ser shape[0] accede a la información de las filas\n",
    "print('Cantidad de datos en observacion:', df.shape[0])"
   ]
  },
  {
   "cell_type": "markdown",
   "metadata": {
    "id": "8T_3enyVHYJa"
   },
   "source": [
    "# Explorar datos\n",
    "<img src=\"https://raw.githubusercontent.com/InoveAlumnos/dataset_analytics_python/master/images/Pipeline3.png\" width=\"1000\" align=\"middle\">"
   ]
  },
  {
   "cell_type": "code",
   "execution_count": null,
   "metadata": {
    "id": "OW81C2zxfH3t"
   },
   "outputs": [],
   "source": [
    "# Analizaremos como se compartan algunos atributos de entrada contra el objetivo (las emisiones, el Co2)\n",
    "# sns alias de Seaborn\n",
    "# se empleará el método pairplot, que muestra las relaciones de varias columnas con \n",
    "# respecto a una columna de referencia\n",
    "# En este caso, con respecto a CO2EMISSIONS\n",
    "# diag_kind=None, parámetro que indica el tipo de trama para las subtramas diagonales. En este caso, ninguna trama\n",
    "# height=5, altura\n",
    "\n",
    "pp = sns.pairplot(data=df, x_vars=['CYLINDERS', 'ENGINESIZE', 'FUELCONSUMPTION_COMB'], y_vars=['CO2EMISSIONS'], diag_kind=None, height=5)\n",
    "# Muestra la figura\n",
    "plt.show()\n"
   ]
  },
  {
   "cell_type": "markdown",
   "metadata": {
    "id": "91gOMQg2Mkrd"
   },
   "source": [
    "Se puede observar que todas tienen una relación lineal con le emisión de CO2, pero para este ejemplo nos quedaremos con las cilindradas del motor para evaluar contra el CO2. Queda en la voluntad del alumno de seguir experimentando con otros features"
   ]
  },
  {
   "cell_type": "code",
   "execution_count": null,
   "metadata": {
    "id": "v0p6e95WMscW"
   },
   "outputs": [],
   "source": [
    "# Analizamos la distribución de la variable que se desea analizar\n",
    "\n",
    "# Se crea el espacio para dibujar con fig = plt.figure(figsize=(16, 9))\n",
    "# Se crea el espacio para el gráfico\n",
    "# sns alias Seaborn\n",
    "# accede al método boxplot(), donde se le indica los valores a representar en el eje de las x, en este caso, \n",
    "# los valores de la columna m2\n",
    "# ax=ax, es un objeto Axes sobre el que se dibuja el gráfico; de lo contrario, utiliza los ejes actuales.\n",
    "# ax.grid('dashed') para ver la grilla de fondo especificando el color\n",
    "fig = plt.figure(figsize=(16, 9))\n",
    "ax = fig.add_subplot()\n",
    "sns.boxplot(x=df['CYLINDERS'], ax=ax, color='darkCyan')\n",
    "ax.grid('dashed')"
   ]
  },
  {
   "cell_type": "markdown",
   "metadata": {
    "id": "cKbXNhC6M5x8"
   },
   "source": [
    "Se puede observar que está centrada a la izquierda la distribución y no hay outliers, por lo que no habrá problema. El hecho de que la distribución esté marcada a la izquierda querra decir que hay menos datos para analizar de alta cilindrada."
   ]
  },
  {
   "cell_type": "code",
   "execution_count": null,
   "metadata": {
    "id": "kXuxjKMBoMWK"
   },
   "outputs": [],
   "source": [
    "# Se crea el espacio para dibujar con fig = plt.figure(figsize=(16, 9))\n",
    "# Se crea el espacio para el gráfico\n",
    "# Se representa un grafico de dispersión con ax = sns.scatterplot()\n",
    "# Se especifica los valores para x e y\n",
    "# ax=ax, es un objeto Axes sobre el que se dibuja el gráfico; de lo contrario, utiliza los ejes actuales.\n",
    "# ax.grid('dashed') para ver la grilla de fondo especificando el color\n",
    "fig = plt.figure()\n",
    "ax = fig.add_subplot()\n",
    "ax = sns.scatterplot(x=df['CYLINDERS'], y=df['CO2EMISSIONS'], color='darkRed', ax=ax)\n",
    "ax.grid('dashed')\n",
    "plt.show()"
   ]
  },
  {
   "cell_type": "markdown",
   "metadata": {
    "id": "APXYUcIdiDHh"
   },
   "source": [
    "# Entrenar modelo\n",
    "<img src=\"https://raw.githubusercontent.com/InoveAlumnos/dataset_analytics_python/master/images/Pipeline4.png\" width=\"1000\" align=\"middle\">"
   ]
  },
  {
   "cell_type": "markdown",
   "metadata": {
    "id": "8y9xIL_0iE5N"
   },
   "source": [
    "El primer paso es obtener los datos que serán la entrada del sistema (X) y los datos que serán la salida del modelo estimador (y)"
   ]
  },
  {
   "cell_type": "code",
   "execution_count": null,
   "metadata": {
    "id": "eyrysoOyiMFV"
   },
   "outputs": [],
   "source": [
    "# Para los valores de X se emplea doble corchete porque necesita la matriz en dos dimensiones\n",
    "X = df[['CYLINDERS']].values\n",
    "\n",
    "# Para los valores de y se emplea un corchete porque necesita la matriz en una dimensiones\n",
    "y = df['CO2EMISSIONS'].values"
   ]
  },
  {
   "cell_type": "markdown",
   "metadata": {
    "id": "HgPxfYKBiO-u"
   },
   "source": [
    "Siguiente paso es dividir el dataset en entrenamiento (train) y evaluación (test). Utilizaremos el criterio 70%30%"
   ]
  },
  {
   "cell_type": "code",
   "execution_count": null,
   "metadata": {
    "id": "B7h8kmBTTAh2"
   },
   "outputs": [],
   "source": [
    "# Se importa la herramienta de sklearn.model_selectionl como train_test_split\n",
    "from sklearn.model_selection import train_test_split\n",
    "\n",
    "# Fijamos un \"random_state\" constante para que siempre el dataset se parta de la misma forma\n",
    "# para poder repetir los ensayos\n",
    "# Ojo! Los dataset de train y test son array numpy\n",
    "# Se importa la herramienta de la libreria  train_test_split()\n",
    "# Necesita los valores de X e y\n",
    "# test_size=0.3, permite indicar el porcentaje de valores para evaluar, equivalente a un 30%\n",
    "# random_state=42,  es un número fijo que utilizan comunmente en documentación, significa que para cada ejecución del algoritmo se genere nuevos valores aleatorios\n",
    "# y los conjuntos de datos de entrenamiento y pruebas serán diferentes\n",
    "\n",
    "X_train, X_test, y_train, y_test = train_test_split(X, y, test_size=0.3, random_state=42)"
   ]
  },
  {
   "cell_type": "markdown",
   "metadata": {
    "id": "UdIRSo5RoW2_"
   },
   "source": [
    "#### Crear un modelo de regresión polinominal"
   ]
  },
  {
   "cell_type": "code",
   "execution_count": null,
   "metadata": {
    "id": "Ez3LOaGK_61O"
   },
   "outputs": [],
   "source": [
    "# Se importa el algoritmo de sklearn.preprocessing  como PolynomialFeatures\n",
    "# Se importa la métrica de sklearn.metrics como mean_squared_error(MSE)\n",
    "from sklearn.preprocessing import PolynomialFeatures\n",
    "from sklearn.linear_model import LinearRegression\n",
    "from sklearn.metrics import mean_squared_error\n",
    "\n",
    "# Se tendrán dos variables con listas vacías que almacenarán\n",
    "# Una mse_list, los errores\n",
    "# grados_list, almacenará los grados del polinomio de cada entrenamiento \n",
    "mse_list = []\n",
    "grados_list = []\n",
    "\n",
    "# El bucle iterará 9 veces, para degree 1,2,3,4,5,6,7,8,9\n",
    "for degree in range(1, 10):\n",
    "\n",
    "    # Se crea el objeto polynomial_features a partir de la clase  PolynomialFeatures()\n",
    "    # y se indica la variable degree    \n",
    "    poly = PolynomialFeatures(degree=degree)\n",
    "    \n",
    "    # Se aplica el método fit_transform indicando los X para entrenar y evaluar\n",
    "    # haciendo un ajuste con reshape\n",
    "    X_train_poly = poly.fit_transform(X_train.reshape(-1, 1))\n",
    "    X_test_poly = poly.fit_transform(X_test.reshape(-1, 1))\n",
    "\n",
    "    # Se aplica una regresión lineal una vez conseguido los valores para X_train y X_test del polinomio \n",
    "    # Se crea el objeto de regresión lineal\n",
    "    # Se aplica el método fin con los X del polinomio\n",
    "    # Luego se hace el predict\n",
    "    lr = LinearRegression()\n",
    "    lr.fit(X_train_poly, y_train)\n",
    "    y_hat = lr.predict(X_test_poly)\n",
    "\n",
    "    # Se calcula el error (MSE)\n",
    "    mse = mean_squared_error(y_test, y_hat)\n",
    "\n",
    "    # El error en cada iteración se va guardando en la lista mse_list\n",
    "    mse_list.append(mse)\n",
    "\n",
    "    # Al igual que el grado del polinomio\n",
    "    grados_list.append(degree)\n",
    "\n",
    "    # Asi como también, en cada iteración se hace un print del grado y error.\n",
    "    print(f\"Gradio de polinomio {degree}, error: {mse}\") # print del error"
   ]
  },
  {
   "cell_type": "code",
   "execution_count": null,
   "metadata": {
    "id": "WEAnrP6ZAqsm"
   },
   "outputs": [],
   "source": [
    "# Representación gráfica de linea\n",
    "# De los grados con respecto al error\n",
    "plt.title(\"Nivel óptimo de complejidad del modelo\")\n",
    "plt.plot(grados_list, mse_list, label=\"test\")\n",
    "\n",
    "# Identificación del eje y \n",
    "plt.ylabel(\"Error\")\n",
    "plt.show()\n",
    "\n",
    "# Print de error más bajo y el grado que corresponde a ese error\n",
    "print('Error mínimo:', min(mse_list))\n",
    "print('Nivel óptimo:', mse_list.index(min(mse_list))+1)"
   ]
  },
  {
   "cell_type": "markdown",
   "metadata": {
    "id": "5D68kZg_uDQr"
   },
   "source": [
    "Construir el modelo que mejor ajuste al problema"
   ]
  },
  {
   "cell_type": "code",
   "execution_count": null,
   "metadata": {
    "id": "ZqqIA176t3U-"
   },
   "outputs": [],
   "source": [
    "# Se importa el algoritmo de  sklearn.preprocessing  como PolynomialFeatures\n",
    "# Se importa el normalizador como MinMaxScaler de sklearn.preprocessing\n",
    "from sklearn.preprocessing import PolynomialFeatures\n",
    "from sklearn.linear_model import LinearRegression\n",
    "\n",
    "# Se crea el objeto poly\n",
    "poly = PolynomialFeatures(degree=3)\n",
    "\n",
    "# Se aplica fit_transform con el grado con menor error\n",
    "X_train_poly = poly.fit_transform(X_train)\n",
    "X_test_poly = poly.fit_transform(X_test)\n",
    "\n",
    "# Una vez que se tienen los valores de X del polinomio identificado \n",
    "# Se aplica una regresiín lineal con los nuevos valore de X\n",
    "lr = LinearRegression()\n",
    "lr.fit(X_train_poly, y_train)\n",
    "y_hat = lr.predict(X_test_poly)"
   ]
  },
  {
   "cell_type": "markdown",
   "metadata": {
    "id": "L65NqXhOohII"
   },
   "source": [
    "# Validar modelo\n",
    "<img src=\"https://raw.githubusercontent.com/InoveAlumnos/dataset_analytics_python/master/images/Pipeline5.png\" width=\"1000\" align=\"middle\">"
   ]
  },
  {
   "cell_type": "code",
   "execution_count": null,
   "metadata": {
    "id": "r21RklSQpElK"
   },
   "outputs": [],
   "source": [
    "# Es un coeficiente de determinación, determina la capacidad de un modelo para predecir futuros resultados. \n",
    "# El mejor resultado posible es 1.0\n",
    "from sklearn.metrics import r2_score\n",
    "score = r2_score(y_test, y_hat)\n",
    "print(f\"Coeficiente de determinación: {score:.2f}\")"
   ]
  },
  {
   "cell_type": "markdown",
   "metadata": {
    "id": "C1Ndkl6uopBq"
   },
   "source": [
    "# Utilizar modelo\n",
    "<img src=\"https://raw.githubusercontent.com/InoveAlumnos/dataset_analytics_python/master/images/Pipeline6.png\" width=\"1000\" align=\"middle\">"
   ]
  },
  {
   "cell_type": "code",
   "execution_count": null,
   "metadata": {
    "id": "9gACMAA4DK-N"
   },
   "outputs": [],
   "source": [
    "# Modelo de Regresión Polinomial\n",
    "# El array debe tener el valor de los cilindros\n",
    "emisiones = np.array([[6]])\n",
    "\n",
    "#Transforma el nuevo valor a polinomio\n",
    "emisiones_poly = poly.fit_transform(emisiones)\n",
    "y_hat_prueba = lr.predict(emisiones_poly)\n",
    "y_hat_prueba"
   ]
  },
  {
   "cell_type": "markdown",
   "metadata": {
    "id": "HVcz7djcpypK"
   },
   "source": [
    "# Conclusión\n",
    "<img src=\"https://raw.githubusercontent.com/InoveAlumnos/dataset_analytics_python/master/images/Pipeline7.png\" width=\"1000\" align=\"middle\">"
   ]
  },
  {
   "cell_type": "markdown",
   "metadata": {
    "id": "hLw3dwRQKmYI"
   },
   "source": [
    "En este ejemplo emisiones de CO2 se puede realizar todos los tipos de regresioens estudiadas hasta el momento, en este caso solo se comparó contra la cilindrada utilizando una regresión polinomial"
   ]
  }
 ],
 "metadata": {
  "colab": {
   "provenance": []
  },
  "kernelspec": {
   "display_name": "Python 3",
   "language": "python",
   "name": "python3"
  },
  "language_info": {
   "codemirror_mode": {
    "name": "ipython",
    "version": 3
   },
   "file_extension": ".py",
   "mimetype": "text/x-python",
   "name": "python",
   "nbconvert_exporter": "python",
   "pygments_lexer": "ipython3",
   "version": "3.8.10"
  }
 },
 "nbformat": 4,
 "nbformat_minor": 4
}
